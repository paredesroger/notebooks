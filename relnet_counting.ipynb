{
 "cells": [
  {
   "cell_type": "markdown",
   "metadata": {},
   "source": [
    "\n",
    "Exact counting using SAT-oracles\n",
    "------------------------------------------------\n",
    "Author: Roger Paredes (roger.paredes@rice.edu)\n",
    "\n",
    "Based on this work: https://arxiv.org/abs/1806.00917."
   ]
  },
  {
   "cell_type": "code",
   "execution_count": 23,
   "metadata": {},
   "outputs": [],
   "source": [
    "from pycryptosat import Solver  # Linux/OSX can get it issuing: conda install -c conda-forge cryptominisat\n",
    "from time import time  # for comaparison of run times\n",
    "import networkx as nx  # for visualization only\n",
    "import matplotlib.pyplot as plt  # for plotting only"
   ]
  },
  {
   "cell_type": "code",
   "execution_count": 24,
   "metadata": {},
   "outputs": [],
   "source": [
    "def count_classic(cnf):  \n",
    "    \"\"\"\n",
    "    Counts different solutions of Boolean formula in CNF form.\n",
    "    \n",
    "    Args:\n",
    "        cnf (List[List[int]]): List of clauses.\n",
    "    \"\"\"\n",
    "    number_of_variables = max(abs(var) for clause in cnf for var in clause)\n",
    "    number_of_solutions = 0\n",
    "    # Initialize solver and add clauses\n",
    "    solver = Solver()\n",
    "    solver.add_clauses(cnf)\n",
    "    # Counting algorithm via banning of solutions\n",
    "    while True:\n",
    "        solution_exists, solution = solver.solve()                      # SAT-solver call\n",
    "        if solution_exists:\n",
    "            clause = []\n",
    "            for var in range(1, number_of_variables+1):\n",
    "                clause.append(-var if solution[var] else var)\n",
    "            solver.add_clause(clause)                                   # Formula update\n",
    "            number_of_solutions += 1\n",
    "        else:\n",
    "            return number_of_solutions\n",
    "        \n",
    "def count_projected_classic(cnf, s):\n",
    "    \"\"\"\n",
    "    Counts different projected solutions of Boolean formula in CNF form.\n",
    "    \n",
    "    Args:\n",
    "        cnf (List[List[int]]): List of clauses.\n",
    "        s (List[bool]): Sampling set such that s[var] = True iff var is in sampling set S.\n",
    "    \"\"\"\n",
    "    number_of_variables = max(abs(var) for clause in cnf for var in clause)\n",
    "    number_of_solutions = 0\n",
    "    # Initialize solver and add clauses\n",
    "    solver = Solver()\n",
    "    solver.add_clauses(cnf)\n",
    "    # Counting algorithm via banning of solutions\n",
    "    while True:\n",
    "        solution_exists, solution = solver.solve()                      # SAT-solver call\n",
    "        if solution_exists:\n",
    "            clause = []\n",
    "            for var in range(1, number_of_variables+1):\n",
    "                if s[var] is False:                                     # Projection over edge variables\n",
    "                    clause.append(-var if solution[var] else var)\n",
    "            solver.add_clause(clause)                                   # formula update\n",
    "            number_of_solutions += 1\n",
    "        else:\n",
    "            return number_of_solutions\n",
    "    "
   ]
  },
  {
   "cell_type": "markdown",
   "metadata": {},
   "source": [
    "Bridge Graph\n",
    "------------"
   ]
  },
  {
   "cell_type": "code",
   "execution_count": 31,
   "metadata": {},
   "outputs": [
    {
     "data": {
      "image/png": "[encoded data removed]",
      "text/plain": [
       "<Figure size 432x288 with 1 Axes>"
      ]
     },
     "metadata": {},
     "output_type": "display_data"
    }
   ],
   "source": [
    "# Graph instance\n",
    "V = [1, 2, 3, 4,]\n",
    "E = [(1, 2), (1,3), (2, 3), (2,4), (3,4)]\n",
    "g = nx.Graph(E)\n",
    "nx.draw_networkx(g, with_labels=True, pos=nx.spring_layout(g))"
   ]
  },
  {
   "cell_type": "markdown",
   "metadata": {},
   "source": [
    "Network Satisfiability\n",
    "------------------------------"
   ]
  },
  {
   "cell_type": "code",
   "execution_count": 4,
   "metadata": {},
   "outputs": [
    {
     "name": "stdout",
     "output_type": "stream",
     "text": [
      "Number of solutions is 16 in 0.0015 seconds\n"
     ]
    }
   ],
   "source": [
    "# CNF for bridge graph\n",
    "cnf = [[1, 2],\n",
    "       [1, 3, 4],\n",
    "       [2, 3, 5],\n",
    "       [4, 5]]\n",
    "\n",
    "# Counting algorithm via banning of solutions\n",
    "t0 = time()\n",
    "number_of_solutions = count_classic(cnf)\n",
    "print('Number of solutions is %d in %.4f seconds' % (number_of_solutions, time()-t0))"
   ]
  },
  {
   "cell_type": "markdown",
   "metadata": {},
   "source": [
    "Source-Terminal Reliability\n",
    "--------------------------------------"
   ]
  },
  {
   "cell_type": "code",
   "execution_count": 5,
   "metadata": {},
   "outputs": [
    {
     "name": "stdout",
     "output_type": "stream",
     "text": [
      "Number of solutions is 16 in 0.0083 seconds\n"
     ]
    }
   ],
   "source": [
    "# CNF for bridge graph (source: 1, terminal: 4, vertices: {1, 2, 3, 4}, Edges: {5, 6, 7, 8, 9})\n",
    "cnf = [[1],                       # vertex source\n",
    "       [-4],                      # vertex terminal\n",
    "       [-1, -5, 2], [-2, -5, 1],  # edge 1\n",
    "       [-1, -6, 3], [-3, -6, 1],  # edge 2\n",
    "       [-2, -7, 3], [-3, -7, 2],  # edge 3\n",
    "       [-2, -8, 4], [-4, -8, 2],  # edge 4\n",
    "       [-3, -9, 4], [-4, -9, 3],  # edge 5\n",
    "      ]\n",
    "\n",
    "# Members of sampling set S = {1, 2, 3, 4}\n",
    "s=[None, True, True, True, True, False, False, False, False, False]\n",
    "\n",
    "# Projected counting\n",
    "t0 = time()\n",
    "number_of_solutions = count_projected_classic(cnf, s)\n",
    "print('Number of solutions is %d in %.4f seconds' % (number_of_solutions, time()-t0))"
   ]
  },
  {
   "cell_type": "code",
   "execution_count": null,
   "metadata": {},
   "outputs": [],
   "source": []
  }
 ],
 "metadata": {
  "kernelspec": {
   "display_name": "Python [default]",
   "language": "python",
   "name": "python3"
  },
  "language_info": {
   "codemirror_mode": {
    "name": "ipython",
    "version": 3
   },
   "file_extension": ".py",
   "mimetype": "text/x-python",
   "name": "python",
   "nbconvert_exporter": "python",
   "pygments_lexer": "ipython3",
   "version": "3.6.6"
  }
 },
 "nbformat": 4,
 "nbformat_minor": 2
}
